{
  "nbformat": 4,
  "nbformat_minor": 0,
  "metadata": {
    "colab": {
      "name": "MINLP GA and Pyswarm.ipynb",
      "provenance": [],
      "authorship_tag": "ABX9TyPVJhm3fB4vLVjZWTYYleH3",
      "include_colab_link": true
    },
    "kernelspec": {
      "name": "python3",
      "display_name": "Python 3"
    },
    "language_info": {
      "name": "python"
    }
  },
  "cells": [
    {
      "cell_type": "markdown",
      "metadata": {
        "id": "view-in-github",
        "colab_type": "text"
      },
      "source": [
        "<a href=\"https://colab.research.google.com/github/farzanehnia/MicroGridsPy-SESAM/blob/E4SD_2020_PaperMaterial/MINLP_GA_and_Pyswarm.ipynb\" target=\"_parent\"><img src=\"https://colab.research.google.com/assets/colab-badge.svg\" alt=\"Open In Colab\"/></a>"
      ]
    },
    {
      "cell_type": "code",
      "source": [
        "!pip install -q geneticalgorithm;"
      ],
      "metadata": {
        "id": "Z1GaoSz_vEkR",
        "colab": {
          "base_uri": "https://localhost:8080/"
        },
        "outputId": "112c8dd2-e29d-450d-838d-f6e3a16baede"
      },
      "execution_count": 1,
      "outputs": [
        {
          "output_type": "stream",
          "name": "stdout",
          "text": [
            "\u001b[?25l\r\u001b[K     |███████▍                        | 10 kB 24.8 MB/s eta 0:00:01\r\u001b[K     |██████████████▉                 | 20 kB 7.1 MB/s eta 0:00:01\r\u001b[K     |██████████████████████▏         | 30 kB 7.0 MB/s eta 0:00:01\r\u001b[K     |█████████████████████████████▋  | 40 kB 6.5 MB/s eta 0:00:01\r\u001b[K     |████████████████████████████████| 44 kB 982 kB/s \n",
            "\u001b[?25h  Building wheel for func-timeout (setup.py) ... \u001b[?25l\u001b[?25hdone\n"
          ]
        }
      ]
    },
    {
      "cell_type": "code",
      "execution_count": 2,
      "metadata": {
        "id": "nFE6bmPftwKz"
      },
      "outputs": [],
      "source": [
        "import numpy as np\n",
        "from geneticalgorithm import geneticalgorithm as ga"
      ]
    },
    {
      "cell_type": "markdown",
      "source": [
        "The function f is defined here.\n",
        "Genetic algorith by defult minimizes."
      ],
      "metadata": {
        "id": "1sBSAYcxA2TW"
      }
    },
    {
      "cell_type": "code",
      "source": [
        "# f\n",
        "\n",
        "def f(x):\n",
        "  pen = 0\n",
        "  if not -x[0]+2*x[1]*x[0]<=8: pen = np.inf\n",
        "  if not 2*x[0]+x[1]<=14: pen =np. inf\n",
        "  if not 2*x[0]-x[1]<=10: pen = np.inf\n",
        "  return -(x[0]+x[1]*x[0]) + pen\n"
      ],
      "metadata": {
        "id": "a4FCLe1OwRin"
      },
      "execution_count": null,
      "outputs": []
    },
    {
      "cell_type": "code",
      "source": [
        "varbounds = np.array([[0,10], [0,10]])\n",
        "vartype = np.array([['int'], ['real']])\n",
        "\n",
        "model = ga(function = f, dimension=2, variable_type_mixed=vartype,  variable_boundaries=varbounds)\n",
        "\n",
        "model.run()"
      ],
      "metadata": {
        "colab": {
          "base_uri": "https://localhost:8080/",
          "height": 436
        },
        "id": "0tmWNjfbuzkN",
        "outputId": "1494990c-dd66-4970-be6c-495109481a93"
      },
      "execution_count": null,
      "outputs": [
        {
          "output_type": "stream",
          "name": "stdout",
          "text": [
            "|_________________________________________________ 2.3% GA is running..."
          ]
        },
        {
          "output_type": "stream",
          "name": "stderr",
          "text": [
            "/usr/local/lib/python3.7/dist-packages/geneticalgorithm/geneticalgorithm.py:353: RuntimeWarning: invalid value encountered in subtract\n",
            "  normobj=maxnorm-normobj+1\n"
          ]
        },
        {
          "output_type": "stream",
          "name": "stdout",
          "text": [
            " The best solution found:\n",
            " [5.        1.2943223]\n",
            "\n",
            " Objective function:\n",
            " -11.471611491060425\n"
          ]
        },
        {
          "output_type": "display_data",
          "data": {
            "text/plain": [
              "<Figure size 432x288 with 1 Axes>"
            ],
            "image/png": "[encoded data removed]"
          },
          "metadata": {
            "needs_background": "light"
          }
        }
      ]
    },
    {
      "cell_type": "markdown",
      "source": [
        "### Pyswarm\n",
        "particle swarm optimization (PSO)\n",
        "\n",
        "model_obj and cons are functions for objective function and constraints."
      ],
      "metadata": {
        "id": "JR1cBsOCE_xE"
      }
    },
    {
      "cell_type": "code",
      "source": [
        "!pip install -q pyswarm"
      ],
      "metadata": {
        "id": "e5EsLfrVx7IT"
      },
      "execution_count": 1,
      "outputs": []
    },
    {
      "cell_type": "code",
      "source": [
        "from pyswarm import pso\n",
        "import numpy as np\n"
      ],
      "metadata": {
        "id": "7jtRkwpzEyZ2"
      },
      "execution_count": 2,
      "outputs": []
    },
    {
      "cell_type": "code",
      "source": [
        "def model_obj(x):\n",
        "  pen = 0\n",
        "  x[0] = np.round(x[0],0)\n",
        "  if not -x[0]+2*x[1]*x[0]<=8: pen = np.inf\n",
        "  if not 2*x[0]+x[1]<=14: pen =np. inf\n",
        "  if not 2*x[0]-x[1]<=10: pen = np.inf\n",
        "\n",
        "  return -(x[0]+x[1]*x[0]) + pen"
      ],
      "metadata": {
        "id": "PRFQqVDfFbLl"
      },
      "execution_count": 7,
      "outputs": []
    },
    {
      "cell_type": "code",
      "source": [
        "def cons(x):\n",
        "  return []"
      ],
      "metadata": {
        "id": "yeKbjaOzF_Jl"
      },
      "execution_count": 8,
      "outputs": []
    },
    {
      "cell_type": "code",
      "source": [
        "lb = [0,0]\n",
        "ub = [10,10]\n",
        "x0 = [0,0]\n",
        "\n",
        "xopt, fopt = pso(model_obj, lb, ub, x0, cons)"
      ],
      "metadata": {
        "colab": {
          "base_uri": "https://localhost:8080/"
        },
        "id": "824vMP9nE6ME",
        "outputId": "547f13de-b9ed-4700-db17-2b7f64ccc31c"
      },
      "execution_count": 9,
      "outputs": [
        {
          "output_type": "stream",
          "name": "stdout",
          "text": [
            "Stopping search: Swarm best position change less than 1e-08\n"
          ]
        }
      ]
    },
    {
      "cell_type": "code",
      "source": [
        "print('x = ', xopt[0])\n",
        "print('y = ', xopt[1])\n"
      ],
      "metadata": {
        "colab": {
          "base_uri": "https://localhost:8080/"
        },
        "id": "e07Y4FB5GGSL",
        "outputId": "f3754f19-917c-487d-8870-75a05d9a92a4"
      },
      "execution_count": 10,
      "outputs": [
        {
          "output_type": "stream",
          "name": "stdout",
          "text": [
            "x =  5.0\n",
            "y =  1.2999999995918157\n"
          ]
        }
      ]
    },
    {
      "cell_type": "code",
      "source": [
        ""
      ],
      "metadata": {
        "id": "Pdp5oyT4GNEr"
      },
      "execution_count": null,
      "outputs": []
    }
  ]
}